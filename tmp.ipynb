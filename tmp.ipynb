{
 "cells": [
  {
   "cell_type": "code",
   "execution_count": 9,
   "metadata": {},
   "outputs": [],
   "source": [
    "import torch\n",
    "from einops import rearrange"
   ]
  },
  {
   "cell_type": "code",
   "execution_count": 14,
   "metadata": {},
   "outputs": [
    {
     "name": "stdout",
     "output_type": "stream",
     "text": [
      "tensor([12, 15])\n"
     ]
    },
    {
     "data": {
      "text/plain": [
       "tensor([[[[-1.0961e+00, -6.9444e-01,  9.7079e-01],\n",
       "          [-3.3646e+00, -3.9396e+00,  2.9800e+00],\n",
       "          [-1.4528e-01, -2.4817e-01,  1.2867e-01],\n",
       "          ...,\n",
       "          [-1.7149e+02, -5.9997e+01,  7.8377e-01],\n",
       "          [ 8.0618e+01,  2.8429e+01, -3.6845e-01],\n",
       "          [-1.0009e+01, -3.5572e+00,  4.5744e-02]]],\n",
       "\n",
       "\n",
       "        [[[-3.3815e-01, -2.1424e-01,  2.9949e-01],\n",
       "          [-2.8346e+00, -3.3191e+00,  2.5106e+00],\n",
       "          [ 1.7915e-01,  3.0602e-01, -1.5867e-01],\n",
       "          ...,\n",
       "          [-5.5515e+01, -1.9422e+01,  2.5372e-01],\n",
       "          [ 1.3516e+02,  4.7660e+01, -6.1771e-01],\n",
       "          [ 1.6319e+02,  5.7999e+01, -7.4584e-01]]],\n",
       "\n",
       "\n",
       "        [[[ 6.2079e-01,  3.9331e-01, -5.4983e-01],\n",
       "          [-3.7141e+00, -4.3489e+00,  3.2896e+00],\n",
       "          [-4.2219e-01, -7.2120e-01,  3.7393e-01],\n",
       "          ...,\n",
       "          [ 6.5385e+01,  2.2876e+01, -2.9883e-01],\n",
       "          [ 3.6361e+01,  1.2822e+01, -1.6618e-01],\n",
       "          [-3.0139e+02, -1.0712e+02,  1.3775e+00]]],\n",
       "\n",
       "\n",
       "        ...,\n",
       "\n",
       "\n",
       "        [[[-1.0802e+00, -6.8441e-01,  9.5676e-01],\n",
       "          [-8.6841e-01, -1.0168e+00,  7.6914e-01],\n",
       "          [ 1.0423e+00,  1.7805e+00, -9.2316e-01],\n",
       "          ...,\n",
       "          [-4.9232e+01, -1.7224e+01,  2.2501e-01],\n",
       "          [-2.4099e+02, -8.4982e+01,  1.1014e+00],\n",
       "          [-2.9594e+02, -1.0518e+02,  1.3525e+00]]],\n",
       "\n",
       "\n",
       "        [[[ 1.9208e+00,  1.2170e+00, -1.7013e+00],\n",
       "          [-9.8981e-01, -1.1590e+00,  8.7667e-01],\n",
       "          [ 3.0064e-01,  5.1356e-01, -2.6627e-01],\n",
       "          ...,\n",
       "          [ 1.2946e+02,  4.5293e+01, -5.9168e-01],\n",
       "          [ 3.2959e+02,  1.1622e+02, -1.5063e+00],\n",
       "          [ 2.7907e+02,  9.9183e+01, -1.2755e+00]]],\n",
       "\n",
       "\n",
       "        [[[-1.7117e+00, -1.0844e+00,  1.5160e+00],\n",
       "          [-7.6854e-02, -8.9987e-02,  6.8069e-02],\n",
       "          [ 7.7948e-01,  1.3315e+00, -6.9038e-01],\n",
       "          ...,\n",
       "          [ 1.4137e+02,  4.9461e+01, -6.4613e-01],\n",
       "          [-1.5736e+02, -5.5491e+01,  7.1920e-01],\n",
       "          [ 6.9220e+01,  2.4601e+01, -3.1636e-01]]]])"
      ]
     },
     "execution_count": 14,
     "metadata": {},
     "output_type": "execute_result"
    }
   ],
   "source": [
    "def get_point_cloud_from_depth_torch(depth, intrinsic, depth_scalar=1):\n",
    "    *_, channels, height, width = depth.shape\n",
    "\n",
    "    if channels == 1 and width != 1:\n",
    "        depth = rearrange(depth, '... c h w -> ... h w c')\n",
    "\n",
    "    device = depth.device\n",
    "    px, py = float(intrinsic[0, 2]), float(intrinsic[1, 2])\n",
    "    fx, fy = float(intrinsic[0, 0]), float(intrinsic[1, 1])\n",
    "\n",
    "    stacked_p = torch.tensor([[px, py],], dtype=torch.float32, device=device).unsqueeze(0)\n",
    "    stacked_f = torch.tensor([[fx, fy],], dtype=torch.float32, device=device).unsqueeze(0)\n",
    "    \n",
    "    coordinates = torch.stack(torch.meshgrid(torch.arange(height, device=device), torch.arange(width, device=device)), dim=-1)\n",
    "    \n",
    "    points = (((coordinates - stacked_p) * depth) / stacked_f)\n",
    "    points = torch.concat([points, depth], dim=-1)\n",
    "    points = rearrange(points, '... h w c -> ... (h w) c')\n",
    "\n",
    "    return points\n",
    "\n",
    "depth = torch.randn(512, 1, 1, 128, 128)\n",
    "intrinsic = torch.randn(3,3)\n",
    "\n",
    "get_point_cloud_from_depth_torch(depth, intrinsic)  # Call the function"
   ]
  },
  {
   "cell_type": "code",
   "execution_count": null,
   "metadata": {},
   "outputs": [],
   "source": []
  }
 ],
 "metadata": {
  "kernelspec": {
   "display_name": "atm",
   "language": "python",
   "name": "python3"
  },
  "language_info": {
   "codemirror_mode": {
    "name": "ipython",
    "version": 3
   },
   "file_extension": ".py",
   "mimetype": "text/x-python",
   "name": "python",
   "nbconvert_exporter": "python",
   "pygments_lexer": "ipython3",
   "version": "3.8.18"
  }
 },
 "nbformat": 4,
 "nbformat_minor": 2
}
